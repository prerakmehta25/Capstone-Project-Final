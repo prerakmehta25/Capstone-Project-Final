{
 "cells": [
  {
   "cell_type": "markdown",
   "metadata": {
    "colab_type": "text",
    "id": "jTxiI0X__GT_"
   },
   "source": [
    "# MSDS 422-57 Assignment 6- Prerak, Mehta"
   ]
  },
  {
   "cell_type": "markdown",
   "metadata": {
    "colab_type": "text",
    "id": "RbmpMEDJ_cSv"
   },
   "source": [
    "## Introduction / Summary\n",
    "\n",
    "In this assignment we will again work with digit images and its pixel data. Just like the previous assignment we will use a predictive movel to predict the labels of images from a test data set. Although this time we will use keras and tensorflow in python and work and start working rudimentarily with the neural networks. We will build 4 different neural network models with different dropout layers and nodes per layers and see which model gives us the highest accuracy. We will use that models to predict the target labels of the test data set. "
   ]
  },
  {
   "cell_type": "code",
   "execution_count": null,
   "metadata": {
    "colab": {},
    "colab_type": "code",
    "id": "0mL5Pwx8_ItR"
   },
   "outputs": [],
   "source": [
    "import numpy as np\n",
    "import pandas as pd\n",
    "import seaborn as sns \n",
    "import matplotlib.pyplot as plt\n",
    "import pickle   \n",
    "import sys\n",
    "import os\n",
    "from sklearn import preprocessing \n",
    "from sklearn.model_selection import train_test_split\n",
    "import time\n",
    "import tensorflow as tf"
   ]
  },
  {
   "cell_type": "code",
   "execution_count": 7,
   "metadata": {
    "colab": {
     "base_uri": "https://localhost:8080/",
     "height": 35
    },
    "colab_type": "code",
    "id": "B86k1Px86vTI",
    "outputId": "072c6a8c-bd22-4eea-db90-90a293731b36"
   },
   "outputs": [
    {
     "data": {
      "application/vnd.google.colaboratory.intrinsic+json": {
       "type": "string"
      },
      "text/plain": [
       "'2.2.0'"
      ]
     },
     "execution_count": 7,
     "metadata": {
      "tags": []
     },
     "output_type": "execute_result"
    }
   ],
   "source": [
    "tf.__version__"
   ]
  },
  {
   "cell_type": "code",
   "execution_count": 8,
   "metadata": {
    "colab": {},
    "colab_type": "code",
    "id": "Dto0JAOsIRfI"
   },
   "outputs": [],
   "source": [
    "with open('assign-6-train.pickle','rb') as inFile:\n",
    "    imageData=pickle.load(inFile)"
   ]
  },
  {
   "cell_type": "code",
   "execution_count": 273,
   "metadata": {
    "colab": {
     "base_uri": "https://localhost:8080/",
     "height": 153
    },
    "colab_type": "code",
    "id": "pj64klG5Ixjs",
    "outputId": "6fb7b3fe-850f-4657-9975-1f98ee653216"
   },
   "outputs": [
    {
     "name": "stdout",
     "output_type": "stream",
     "text": [
      "       label  pixel0  pixel1  pixel2  ...  pixel781  pixel782  pixel783  imageID\n",
      "40162      2       0       0       0  ...         0         0         0    35236\n",
      "36992      1       0       0       0  ...         0         0         0    37344\n",
      "39884      1       0       0       0  ...         0         0         0    21045\n",
      "10946      0       0       0       0  ...         0         0         0    18934\n",
      "13921      2       0       0       0  ...         0         0         0     5414\n",
      "\n",
      "[5 rows x 786 columns]\n"
     ]
    }
   ],
   "source": [
    "print(imageData.head())"
   ]
  },
  {
   "cell_type": "code",
   "execution_count": 10,
   "metadata": {
    "colab": {
     "base_uri": "https://localhost:8080/",
     "height": 153
    },
    "colab_type": "code",
    "id": "5hHj0IbPI6-W",
    "outputId": "d3b3e85c-4b75-4ee7-bc81-98b93d2019f0"
   },
   "outputs": [
    {
     "name": "stdout",
     "output_type": "stream",
     "text": [
      "True\n",
      "(40320, 786)\n",
      "Index(['label', 'pixel0', 'pixel1', 'pixel2', 'pixel3', 'pixel4', 'pixel5',\n",
      "       'pixel6', 'pixel7', 'pixel8',\n",
      "       ...\n",
      "       'pixel775', 'pixel776', 'pixel777', 'pixel778', 'pixel779', 'pixel780',\n",
      "       'pixel781', 'pixel782', 'pixel783', 'imageID'],\n",
      "      dtype='object', length=786)\n"
     ]
    }
   ],
   "source": [
    "#Should be true if the Data is a pd DataFrame.\n",
    "print(isinstance(imageData,pd.DataFrame))   \n",
    "#information on the shape of the dataset\n",
    "print(imageData.shape)\n",
    "#Columns in the dataset that provide feature information that will be useful in modeling\n",
    "print(imageData.columns)"
   ]
  },
  {
   "cell_type": "markdown",
   "metadata": {
    "colab_type": "text",
    "id": "yo_-nhYCBHp9"
   },
   "source": [
    "### Notes\n",
    "- Train 4 different models. 1st with 2 dropout layers and 10 nodes, second with 2 dropout layers and 20 nodes, third with 5 dropout layers with 10 nodes and lastly fourth one with 5 dropout layers and 20 nodes.\n",
    "- It is necessary to scale the data for better accuracy and hence we will use MinMaxScaler to scale all the train-test split data for 4 models.\n",
    "- Since we will be using the hyperparameter of loss as 'categorical_crossentropy' as we are dealing with a target variable that has 10 different labels, we have to convert the nx1 array of target variable into a nx10 array with binary values assigned to each target variable (essentially applying onehotencoder). In this assignment we will use a keras function 'utils.to_catergorical' to serve this purpose. We will use num_classes =20 as a hyperparameter in that function for both models that utilizes 20 nodes per layer. This is because the prediction will be a nx20 array of target label probababilities.\n",
    "- Later we will train the model with respect to their hyperparameters, compile, and fit. We will clock the run time of how long it takes the model to fit. \n",
    "- We will also get the target labels from the y_pred variable using the numpy argmax function and visualize using a confusion matrix along with the train and test accuracy.\n",
    "- We will also validate the model on train and test accuracies using the inside hyperparameters of the function. \n",
    "- Later we will use the above 2 features for each of the 4 models to plot a graph for the test and train accuracies.\n",
    "- Lastly we will use the model with the best accuracy to predict the target labels of the test pickle file.            "
   ]
  },
  {
   "cell_type": "markdown",
   "metadata": {
    "colab_type": "text",
    "id": "cZKraJPH1I-p"
   },
   "source": [
    "### Model 1: 2 Layers, 10 Nodes"
   ]
  },
  {
   "cell_type": "code",
   "execution_count": 242,
   "metadata": {
    "colab": {},
    "colab_type": "code",
    "id": "qlZd2kzrJA6A"
   },
   "outputs": [],
   "source": [
    "from sklearn.model_selection import train_test_split\n",
    "from sklearn.preprocessing import StandardScaler, MinMaxScaler\n",
    "\n",
    "X = imageData.iloc[:, 1:-1].values\n",
    "y = imageData.iloc[:, 0].values\n",
    "\n",
    "X_train, X_test, y_train, y_test = train_test_split(X, y, test_size = 0.20, random_state = 0)\n",
    "\n",
    "scaler=preprocessing.MinMaxScaler()\n",
    "\n",
    "X_train = scaler.fit_transform(X_train)\n",
    "X_test = scaler.transform(X_test)\n",
    "\n",
    "y_train1 = tf.keras.utils.to_categorical(y_train)\n",
    "y_testconv1 = tf.keras.utils.to_categorical(y_test)"
   ]
  },
  {
   "cell_type": "code",
   "execution_count": 243,
   "metadata": {
    "colab": {},
    "colab_type": "code",
    "id": "cL6hmkDBJQPj"
   },
   "outputs": [],
   "source": [
    "model1 = tf.keras.Sequential()\n",
    "model1.add(tf.keras.layers.Dense(10, activation='relu'))\n",
    "model1.add(tf.keras.layers.Dense(10, activation='softmax'))\n"
   ]
  },
  {
   "cell_type": "code",
   "execution_count": 244,
   "metadata": {
    "colab": {},
    "colab_type": "code",
    "id": "huvglpR-JTEX"
   },
   "outputs": [],
   "source": [
    "model1.compile(optimizer = 'adam', loss = 'categorical_crossentropy', metrics = ['accuracy','FalsePositives'])"
   ]
  },
  {
   "cell_type": "code",
   "execution_count": 245,
   "metadata": {
    "colab": {
     "base_uri": "https://localhost:8080/",
     "height": 51
    },
    "colab_type": "code",
    "id": "liVsO105LGvH",
    "outputId": "eb34eb07-3c7e-404f-bf08-2a51e8975574"
   },
   "outputs": [
    {
     "name": "stdout",
     "output_type": "stream",
     "text": [
      "\n",
      "Processing time For Model 1 (seconds): 27.308569\n"
     ]
    }
   ],
   "source": [
    "start_time = time.clock()\n",
    "\n",
    "Model_1 = model1.fit(X_train, y_train1, epochs = 15, verbose = 0, validation_data = (X_test, y_testconv1),)\n",
    "\n",
    "end_time = time.clock()\n",
    "runtime1 = end_time - start_time\n",
    "print(\"\\nProcessing time For Model 1 (seconds): %f\" % runtime1)"
   ]
  },
  {
   "cell_type": "code",
   "execution_count": 246,
   "metadata": {
    "colab": {
     "base_uri": "https://localhost:8080/",
     "height": 238
    },
    "colab_type": "code",
    "id": "JSE3n5Yti2BQ",
    "outputId": "8c44f9b6-b3cf-409f-c028-656dd25aa1c0"
   },
   "outputs": [
    {
     "name": "stdout",
     "output_type": "stream",
     "text": [
      "Confusion Matrix of test set: \n",
      " [[772   0   4   1   2   9   6   5   2   4]\n",
      " [  0 873   5   3   1   4   0   4   6   3]\n",
      " [  9   5 678  21  11   1  10  13  12   3]\n",
      " [  1   3  21 752   1  40   5   9  11   3]\n",
      " [  2   3   6   0 737   1   8   6   2  27]\n",
      " [  3   2   0  26   6 696   7   4   8   5]\n",
      " [  4   0   5   0   8   5 726   0   4   0]\n",
      " [  3   2   8   1   8   3   0 807   0  21]\n",
      " [  5   6  11  40   1  18  11   4 692  13]\n",
      " [  3   2   2   9  16   5   0  26   9 724]]\n",
      "Accuracy score for Model 1 Test Set:  0.9247271825396826\n",
      "Accuracy score for Model 1 Train Set:  0.9505208333333334\n"
     ]
    }
   ],
   "source": [
    "from sklearn.metrics import confusion_matrix, accuracy_score\n",
    "\n",
    "y_pred1 = model1.predict(X_test)\n",
    "y_pred1_train = model1.predict(X_train)\n",
    "y_pred1 = np.argmax(y_pred1, axis=1)\n",
    "y_pred1_train = np.argmax(y_pred1_train, axis=1)\n",
    "\n",
    "cm = confusion_matrix(y_test, y_pred1)\n",
    "accuracy_score1_train = accuracy_score(y_train, y_pred1_train)\n",
    "accuracy_score1 = accuracy_score(y_test, y_pred1)\n",
    "print('Confusion Matrix of test set: \\n', cm)\n",
    "print('Accuracy score for Model 1 Test Set: ', accuracy_score(y_test, y_pred1))\n",
    "print('Accuracy score for Model 1 Train Set: ', accuracy_score(y_train, y_pred1_train))"
   ]
  },
  {
   "cell_type": "code",
   "execution_count": 247,
   "metadata": {
    "colab": {},
    "colab_type": "code",
    "id": "hfBIYMM3qIZ0"
   },
   "outputs": [],
   "source": [
    "Model1_accResults =pd.DataFrame(Model_1.history[\"accuracy\"])\n",
    "Model1_vaccResults =pd.DataFrame(Model_1.history[\"val_accuracy\"])\n"
   ]
  },
  {
   "cell_type": "markdown",
   "metadata": {
    "colab_type": "text",
    "id": "Hq5Vc-20oX-c"
   },
   "source": [
    "### Model 2: 2 Layes, 20 Nodes"
   ]
  },
  {
   "cell_type": "code",
   "execution_count": 248,
   "metadata": {
    "colab": {},
    "colab_type": "code",
    "id": "gVwoSqQ8RjJb"
   },
   "outputs": [],
   "source": [
    "X = imageData.iloc[:, 1:-1].values\n",
    "y = imageData.iloc[:, 0].values\n",
    "\n",
    "X_train, X_test, y_train, y_test = train_test_split(X, y, test_size = 0.20, random_state = 0)\n",
    "\n",
    "X_train = scaler.fit_transform(X_train)\n",
    "X_test = scaler.transform(X_test)\n",
    "\n",
    "y_train2 = tf.keras.utils.to_categorical(y_train, num_classes = 20)\n",
    "y_testconv2 = tf.keras.utils.to_categorical(y_test, num_classes = 20)"
   ]
  },
  {
   "cell_type": "code",
   "execution_count": 249,
   "metadata": {
    "colab": {
     "base_uri": "https://localhost:8080/",
     "height": 51
    },
    "colab_type": "code",
    "id": "cYEql8KfnBve",
    "outputId": "9a33a7bf-b136-4484-9c30-6716f5b06f81"
   },
   "outputs": [
    {
     "name": "stdout",
     "output_type": "stream",
     "text": [
      "\n",
      "Processing time For Model 2 (seconds): 27.094187\n"
     ]
    }
   ],
   "source": [
    "model2 = tf.keras.Sequential()\n",
    "model2.add(tf.keras.layers.Dense(20, activation='relu'))\n",
    "model2.add(tf.keras.layers.Dense(20, activation='softmax'))\n",
    "\n",
    "model2.compile(optimizer = 'adam', loss = 'categorical_crossentropy', metrics = ['accuracy','FalsePositives'])\n",
    "\n",
    "start_time = time.clock()\n",
    "\n",
    "Model_2 = model2.fit(X_train, y_train2, epochs = 15, verbose = 0, validation_data = (X_test, y_testconv2),)\n",
    "\n",
    "end_time = time.clock()\n",
    "runtime2 = end_time - start_time\n",
    "print(\"\\nProcessing time For Model 2 (seconds): %f\" % runtime2)"
   ]
  },
  {
   "cell_type": "code",
   "execution_count": 250,
   "metadata": {
    "colab": {
     "base_uri": "https://localhost:8080/",
     "height": 238
    },
    "colab_type": "code",
    "id": "72mAnuBnnB5y",
    "outputId": "245e0537-d391-48a3-842c-04b18de0cca7"
   },
   "outputs": [
    {
     "name": "stdout",
     "output_type": "stream",
     "text": [
      "Confusion Matrix of test set: \n",
      " [[780   0   1   1   1   5   9   2   4   2]\n",
      " [  0 871   9   1   0   5   2   4   3   4]\n",
      " [  2   2 729   5   6   1   3   6   7   2]\n",
      " [  5   3  18 768   0  29   0   7  14   2]\n",
      " [  1   3   7   0 743   2   6   1   2  27]\n",
      " [  3   0   1  16   2 712   4   1  10   8]\n",
      " [  4   0   6   0   2   2 736   0   1   1]\n",
      " [  4   1   5   7   5   2   0 815   0  14]\n",
      " [  2  11  11  10   3  18   6   2 728  10]\n",
      " [  3   1   1   6  11   3   0  10   4 757]]\n",
      "Accuracy score for Model 2 Test Set:  0.947296626984127\n",
      "Accuracy score for Model 2 Train Set:  0.9743923611111112\n"
     ]
    }
   ],
   "source": [
    "y_pred2 = model2.predict(X_test)\n",
    "y_pred2_train = model2.predict(X_train)\n",
    "y_pred2 = np.argmax(y_pred2, axis=1)\n",
    "y_pred2_train = np.argmax(y_pred2_train, axis=1)\n",
    "\n",
    "cm = confusion_matrix(y_test, y_pred2)\n",
    "accuracy_score2_train = accuracy_score(y_train, y_pred2_train)\n",
    "accuracy_score2 = accuracy_score(y_test, y_pred2)\n",
    "print('Confusion Matrix of test set: \\n', cm)\n",
    "print('Accuracy score for Model 2 Test Set: ', accuracy_score(y_test, y_pred2))\n",
    "print('Accuracy score for Model 2 Train Set: ', accuracy_score(y_train, y_pred2_train))"
   ]
  },
  {
   "cell_type": "code",
   "execution_count": 251,
   "metadata": {
    "colab": {},
    "colab_type": "code",
    "id": "V2OXDRNCnB8v"
   },
   "outputs": [],
   "source": [
    "Model2_accResults = pd.DataFrame(Model_2.history[\"accuracy\"])\n",
    "Model2_vaccResults = pd.DataFrame(Model_2.history[\"val_accuracy\"])"
   ]
  },
  {
   "cell_type": "markdown",
   "metadata": {
    "colab_type": "text",
    "id": "gb7TfB2yuNFk"
   },
   "source": [
    "### Model 3: 5 Layes, 10 Nodes"
   ]
  },
  {
   "cell_type": "code",
   "execution_count": 252,
   "metadata": {
    "colab": {},
    "colab_type": "code",
    "id": "M1QG51-ynB_3"
   },
   "outputs": [],
   "source": [
    "X = imageData.iloc[:, 1:-1].values\n",
    "y = imageData.iloc[:, 0].values\n",
    "\n",
    "X_train, X_test, y_train, y_test = train_test_split(X, y, test_size = 0.20, random_state = 0)\n",
    "\n",
    "X_train = scaler.fit_transform(X_train)\n",
    "X_test = scaler.transform(X_test)\n",
    "\n",
    "y_train3 = tf.keras.utils.to_categorical(y_train)\n",
    "y_testconv3 = tf.keras.utils.to_categorical(y_test)"
   ]
  },
  {
   "cell_type": "code",
   "execution_count": 253,
   "metadata": {
    "colab": {
     "base_uri": "https://localhost:8080/",
     "height": 51
    },
    "colab_type": "code",
    "id": "jXx6ZuCRnCEq",
    "outputId": "5235e33a-e721-4851-b335-9d9b245772f7"
   },
   "outputs": [
    {
     "name": "stdout",
     "output_type": "stream",
     "text": [
      "\n",
      "Processing time For Model 3 (seconds): 31.068785\n"
     ]
    }
   ],
   "source": [
    "model3 = tf.keras.Sequential()\n",
    "model3.add(tf.keras.layers.Dense(10, activation='relu'))\n",
    "model3.add(tf.keras.layers.Dense(10, activation='relu'))\n",
    "model3.add(tf.keras.layers.Dense(10, activation='relu'))\n",
    "model3.add(tf.keras.layers.Dense(10, activation='relu'))\n",
    "model3.add(tf.keras.layers.Dense(10, activation='softmax'))\n",
    "\n",
    "model3.compile(optimizer = 'adam', loss = 'categorical_crossentropy', metrics = ['accuracy','FalsePositives'])\n",
    "\n",
    "start_time = time.clock()\n",
    "\n",
    "Model_3 = model3.fit(X_train, y_train3, epochs = 15, verbose = 0, validation_data = (X_test, y_testconv3),)\n",
    "\n",
    "end_time = time.clock()\n",
    "runtime3 = end_time - start_time\n",
    "print(\"\\nProcessing time For Model 3 (seconds): %f\" % runtime3)"
   ]
  },
  {
   "cell_type": "code",
   "execution_count": 254,
   "metadata": {
    "colab": {
     "base_uri": "https://localhost:8080/",
     "height": 238
    },
    "colab_type": "code",
    "id": "0Idt1TernCHX",
    "outputId": "6baa0235-bab3-46c3-93d7-fa01cc1ad0e6"
   },
   "outputs": [
    {
     "name": "stdout",
     "output_type": "stream",
     "text": [
      "Confusion Matrix of test set: \n",
      " [[757   0   3   0   3  17  10   5  10   0]\n",
      " [  0 865   5   4   2   4   2   5   6   6]\n",
      " [  6   9 650   7  13   1  16  27  30   4]\n",
      " [  2   5  18 724   1  44   5  12  29   6]\n",
      " [  0   1   3   0 765   0   9   0   1  13]\n",
      " [  8   0   4  18   6 677   7   4  22  11]\n",
      " [  4   1   1   0   9   5 726   0   6   0]\n",
      " [  2   3   4   3  10   0   0 800   1  30]\n",
      " [  2  10   2   7  12  10   9   4 725  20]\n",
      " [  1   0   0  10  70   4   0  12   5 694]]\n",
      "Accuracy score for Model 3 Test Set:  0.9155505952380952\n",
      "Accuracy score for Model 3 Train Set:  0.9396701388888888\n"
     ]
    }
   ],
   "source": [
    "y_pred3 = model3.predict(X_test)\n",
    "y_pred3_train = model3.predict(X_train)\n",
    "y_pred3 = np.argmax(y_pred3, axis=1)\n",
    "y_pred3_train = np.argmax(y_pred3_train, axis=1)\n",
    "\n",
    "cm = confusion_matrix(y_test, y_pred3)\n",
    "accuracy_score3_train = accuracy_score(y_train, y_pred3_train)\n",
    "accuracy_score3 = accuracy_score(y_test, y_pred3)\n",
    "print('Confusion Matrix of test set: \\n', cm)\n",
    "print('Accuracy score for Model 3 Test Set: ', accuracy_score(y_test, y_pred3))\n",
    "print('Accuracy score for Model 3 Train Set: ', accuracy_score(y_train, y_pred3_train))"
   ]
  },
  {
   "cell_type": "code",
   "execution_count": 255,
   "metadata": {
    "colab": {},
    "colab_type": "code",
    "id": "9EuulQc0nCKQ"
   },
   "outputs": [],
   "source": [
    "Model3_accResults = pd.DataFrame(Model_3.history[\"accuracy\"])\n",
    "Model3_vaccResults = pd.DataFrame(Model_3.history[\"val_accuracy\"])"
   ]
  },
  {
   "cell_type": "markdown",
   "metadata": {
    "colab_type": "text",
    "id": "Mvy7MwSxvC13"
   },
   "source": [
    "### Model 4: 5 Layes, 20 Nodes\n"
   ]
  },
  {
   "cell_type": "code",
   "execution_count": 256,
   "metadata": {
    "colab": {},
    "colab_type": "code",
    "id": "UsehgZMxnCNe"
   },
   "outputs": [],
   "source": [
    "X = imageData.iloc[:, 1:-1].values\n",
    "y = imageData.iloc[:, 0].values\n",
    "\n",
    "X_train, X_test, y_train, y_test = train_test_split(X, y, test_size = 0.20, random_state = 0)\n",
    "\n",
    "X_train = scaler.fit_transform(X_train)\n",
    "X_test = scaler.transform(X_test)\n",
    "\n",
    "y_train4 = tf.keras.utils.to_categorical(y_train, num_classes = 20)\n",
    "y_testconv4 = tf.keras.utils.to_categorical(y_test, num_classes = 20)"
   ]
  },
  {
   "cell_type": "code",
   "execution_count": 257,
   "metadata": {
    "colab": {
     "base_uri": "https://localhost:8080/",
     "height": 51
    },
    "colab_type": "code",
    "id": "SQr8Uq2JnCPs",
    "outputId": "42b190c4-cea4-48fa-b3d7-fe1457be6336"
   },
   "outputs": [
    {
     "name": "stdout",
     "output_type": "stream",
     "text": [
      "\n",
      "Processing time For Model 4 (seconds): 30.826981\n"
     ]
    }
   ],
   "source": [
    "model4 = tf.keras.Sequential()\n",
    "model4.add(tf.keras.layers.Dense(20, activation='relu'))\n",
    "model4.add(tf.keras.layers.Dense(20, activation='relu'))\n",
    "model4.add(tf.keras.layers.Dense(20, activation='relu'))\n",
    "model4.add(tf.keras.layers.Dense(20, activation='relu'))\n",
    "model4.add(tf.keras.layers.Dense(20, activation='softmax'))\n",
    "\n",
    "model4.compile(optimizer = 'adam', loss = 'categorical_crossentropy', metrics = ['accuracy','FalsePositives'])\n",
    "\n",
    "start_time = time.clock()\n",
    "\n",
    "Model_4 = model4.fit(X_train, y_train4, epochs = 15, verbose = 0, validation_data = (X_test, y_testconv4),)\n",
    "\n",
    "end_time = time.clock()\n",
    "runtime4 = end_time - start_time\n",
    "print(\"\\nProcessing time For Model 4 (seconds): %f\" % runtime4)"
   ]
  },
  {
   "cell_type": "code",
   "execution_count": 258,
   "metadata": {
    "colab": {
     "base_uri": "https://localhost:8080/",
     "height": 238
    },
    "colab_type": "code",
    "id": "to2A5hBNnCSi",
    "outputId": "e51ad69c-b130-4915-93f4-e0fb49932cf6"
   },
   "outputs": [
    {
     "name": "stdout",
     "output_type": "stream",
     "text": [
      "Confusion Matrix of test set: \n",
      " [[784   0   0   3   0   6   9   1   2   0]\n",
      " [  0 880   5   4   0   4   0   2   1   3]\n",
      " [  5   7 708   6   8   3   6  12   6   2]\n",
      " [  0   3  10 786   0  29   5   2   8   3]\n",
      " [  4   2   2   0 759   1   7   1   0  16]\n",
      " [  1   2   0  12   0 730   8   0   0   4]\n",
      " [  3   0   3   0   2   6 738   0   0   0]\n",
      " [  1   4   2   4   2   5   1 824   0  10]\n",
      " [  2  12   3  18   3  14   8   0 736   5]\n",
      " [  3   1   0  11  25   5   1   8   6 736]]\n",
      "Accuracy score for Model 4 Test Set:  0.9525049603174603\n",
      "Accuracy score for Model 4 Train Set:  0.9789806547619048\n"
     ]
    }
   ],
   "source": [
    "y_pred4 = model4.predict(X_test)\n",
    "y_pred4_train = model4.predict(X_train)\n",
    "y_pred4 = np.argmax(y_pred4, axis=1)\n",
    "y_pred4_train = np.argmax(y_pred4_train, axis=1)\n",
    "\n",
    "cm = confusion_matrix(y_test, y_pred4)\n",
    "accuracy_score4_train = accuracy_score(y_train, y_pred4_train)\n",
    "accuracy_score4 = accuracy_score(y_test, y_pred4)\n",
    "print('Confusion Matrix of test set: \\n', cm)\n",
    "print('Accuracy score for Model 4 Test Set: ', accuracy_score(y_test, y_pred4))\n",
    "print('Accuracy score for Model 4 Train Set: ', accuracy_score(y_train, y_pred4_train))"
   ]
  },
  {
   "cell_type": "code",
   "execution_count": 259,
   "metadata": {
    "colab": {},
    "colab_type": "code",
    "id": "aKOoRJFjnCWv"
   },
   "outputs": [],
   "source": [
    "Model4_accResults = pd.DataFrame(Model_4.history[\"accuracy\"])\n",
    "Model4_vaccResults = pd.DataFrame(Model_4.history[\"val_accuracy\"])"
   ]
  },
  {
   "cell_type": "code",
   "execution_count": 260,
   "metadata": {
    "colab": {},
    "colab_type": "code",
    "id": "YFxT1iSLnCa_"
   },
   "outputs": [],
   "source": [
    "#Reference and credit to Karen O'brien from the assignment huddle. \n",
    "epochs = 15\n",
    "\n",
    "accResults = pd.concat([Model1_accResults, Model2_accResults, \n",
    "                        Model3_accResults, Model4_accResults], axis=1)\n",
    "accResults.columns =[\"Model 1 Training Accuracy\", \"Model 2 Training Accuracy\", \n",
    "                     \"Model 3 Training Accuracy\", \"Model 4 Training Accuracy\"] \n",
    "accResults.index =(np.arange(1, ((epochs)+1), step=1)) #this resets the index to epoch number\n",
    "\n",
    "vaccResults = pd.concat([Model1_vaccResults, Model2_vaccResults, \n",
    "                         Model3_vaccResults, Model4_vaccResults], axis=1)\n",
    "vaccResults.columns =[\"Model 1 Test Accuracy\", \"Model 2 Test Accuracy\", \n",
    "                      \"Model 3 Tes Accuracy\", \"Model 4 Test Accuracy\"] \n",
    "vaccResults.index =(np.arange(1, ((epochs)+1), step=1))\n"
   ]
  },
  {
   "cell_type": "code",
   "execution_count": 261,
   "metadata": {
    "colab": {
     "base_uri": "https://localhost:8080/",
     "height": 358
    },
    "colab_type": "code",
    "id": "pclvs6ONnCd8",
    "outputId": "4139fa9e-a6cc-4a55-ceb2-b6cdac50af52"
   },
   "outputs": [
    {
     "data": {
      "text/plain": [
       "<Figure size 1512x432 with 0 Axes>"
      ]
     },
     "metadata": {
      "tags": []
     },
     "output_type": "display_data"
    },
    {
     "data": {
      "image/png": "[encoded data removed]",
      "text/plain": [
       "<Figure size 432x288 with 1 Axes>"
      ]
     },
     "metadata": {
      "needs_background": "light",
      "tags": []
     },
     "output_type": "display_data"
    }
   ],
   "source": [
    "four_colors = [\"Blue\", \"Green\", \"Red\", \"Black\"]\n",
    "\n",
    "fig = plt.figure(figsize=(21,6));  \n",
    "ax1 = accResults.plot(kind='line', lw=2, style=':', color=(four_colors)); \n",
    "vaccResults.plot(kind='line', lw=3, color=(four_colors), ax=ax1); \n",
    "plt.title(\"Training and Validation Accuracy\\nComparison of 4 Models\\n\", size=18);\n",
    "plt.legend(loc='center right', bbox_to_anchor=(1.42, 0.5)); \n",
    "plt.xticks(np.arange(1, ((epochs)+1), step=1));\n",
    "plt.yticks(np.arange(0.70, 1.01, step=0.03)); \n",
    "plt.xlabel('Epochs'); \n",
    "plt.ylabel('Accuracy');\n",
    "plt.show()"
   ]
  },
  {
   "cell_type": "code",
   "execution_count": 264,
   "metadata": {
    "colab": {
     "base_uri": "https://localhost:8080/",
     "height": 173
    },
    "colab_type": "code",
    "id": "Qjea-ZRsnChN",
    "outputId": "80af0473-4fb5-46fa-ff1d-18eda1ae7eaf"
   },
   "outputs": [
    {
     "data": {
      "text/html": [
       "<div>\n",
       "<style scoped>\n",
       "    .dataframe tbody tr th:only-of-type {\n",
       "        vertical-align: middle;\n",
       "    }\n",
       "\n",
       "    .dataframe tbody tr th {\n",
       "        vertical-align: top;\n",
       "    }\n",
       "\n",
       "    .dataframe thead th {\n",
       "        text-align: right;\n",
       "    }\n",
       "</style>\n",
       "<table border=\"1\" class=\"dataframe\">\n",
       "  <thead>\n",
       "    <tr style=\"text-align: right;\">\n",
       "      <th></th>\n",
       "      <th>Number of Layers</th>\n",
       "      <th>Nodes per Layer</th>\n",
       "      <th>Processing Time</th>\n",
       "      <th>Training Set Accuracy</th>\n",
       "      <th>Test Set Accuracy</th>\n",
       "    </tr>\n",
       "  </thead>\n",
       "  <tbody>\n",
       "    <tr>\n",
       "      <th>0</th>\n",
       "      <td>2</td>\n",
       "      <td>10</td>\n",
       "      <td>27.308569</td>\n",
       "      <td>0.950521</td>\n",
       "      <td>0.924727</td>\n",
       "    </tr>\n",
       "    <tr>\n",
       "      <th>1</th>\n",
       "      <td>2</td>\n",
       "      <td>20</td>\n",
       "      <td>27.094187</td>\n",
       "      <td>0.974392</td>\n",
       "      <td>0.947297</td>\n",
       "    </tr>\n",
       "    <tr>\n",
       "      <th>2</th>\n",
       "      <td>5</td>\n",
       "      <td>10</td>\n",
       "      <td>31.068785</td>\n",
       "      <td>0.939670</td>\n",
       "      <td>0.915551</td>\n",
       "    </tr>\n",
       "    <tr>\n",
       "      <th>3</th>\n",
       "      <td>5</td>\n",
       "      <td>20</td>\n",
       "      <td>30.826981</td>\n",
       "      <td>0.978981</td>\n",
       "      <td>0.952505</td>\n",
       "    </tr>\n",
       "  </tbody>\n",
       "</table>\n",
       "</div>"
      ],
      "text/plain": [
       "  Number of Layers Nodes per Layer  ...  Training Set Accuracy  Test Set Accuracy\n",
       "0                2              10  ...               0.950521           0.924727\n",
       "1                2              20  ...               0.974392           0.947297\n",
       "2                5              10  ...               0.939670           0.915551\n",
       "3                5              20  ...               0.978981           0.952505\n",
       "\n",
       "[4 rows x 5 columns]"
      ]
     },
     "execution_count": 264,
     "metadata": {
      "tags": []
     },
     "output_type": "execute_result"
    }
   ],
   "source": [
    "data = {'Number of Layers': ['2','2','5','5'],\n",
    "        'Nodes per Layer': ['10','20','10','20'],\n",
    "        'Processing Time': [runtime1,runtime2,runtime3,runtime4],\n",
    "        'Training Set Accuracy': [accuracy_score1_train,accuracy_score2_train,accuracy_score3_train,accuracy_score4_train],\n",
    "        'Test Set Accuracy': [accuracy_score1,accuracy_score2,accuracy_score3,accuracy_score4]}\n",
    "\n",
    "df= pd.DataFrame(data)\n",
    "\n",
    "df"
   ]
  },
  {
   "cell_type": "markdown",
   "metadata": {
    "colab_type": "text",
    "id": "HvUlnhxNFMBB"
   },
   "source": [
    "#### From the above graph and data table we can clearly see that the accuracy of the 4th model with 5 layers and 20 nodes per layer provides the highest accuracy and hence we will use that to predict values for the test data."
   ]
  },
  {
   "cell_type": "code",
   "execution_count": 240,
   "metadata": {
    "colab": {},
    "colab_type": "code",
    "id": "E3ufm_qKnCkt"
   },
   "outputs": [],
   "source": [
    "with open('assign-6-test.pickle','rb') as inFile:\n",
    "    imageDataTest=pickle.load(inFile)"
   ]
  },
  {
   "cell_type": "code",
   "execution_count": 241,
   "metadata": {
    "colab": {
     "base_uri": "https://localhost:8080/",
     "height": 153
    },
    "colab_type": "code",
    "id": "XtupK6ETnCpe",
    "outputId": "22cfb1e4-2b69-42f1-d572-f89db20242b4"
   },
   "outputs": [
    {
     "name": "stdout",
     "output_type": "stream",
     "text": [
      "True\n",
      "(1680, 786)\n",
      "Index(['label', 'pixel0', 'pixel1', 'pixel2', 'pixel3', 'pixel4', 'pixel5',\n",
      "       'pixel6', 'pixel7', 'pixel8',\n",
      "       ...\n",
      "       'pixel775', 'pixel776', 'pixel777', 'pixel778', 'pixel779', 'pixel780',\n",
      "       'pixel781', 'pixel782', 'pixel783', 'imageID'],\n",
      "      dtype='object', length=786)\n"
     ]
    }
   ],
   "source": [
    "#Should be true if the Data is a pd DataFrame.\n",
    "print(isinstance(imageDataTest,pd.DataFrame))   \n",
    "#information on the shape of the dataset\n",
    "print(imageDataTest.shape)\n",
    "#Columns in the dataset that provide feature information that will be useful in modeling\n",
    "print(imageDataTest.columns)"
   ]
  },
  {
   "cell_type": "code",
   "execution_count": 271,
   "metadata": {
    "colab": {
     "base_uri": "https://localhost:8080/",
     "height": 419
    },
    "colab_type": "code",
    "id": "42geGwIInCu6",
    "outputId": "72521281-b513-45c7-96f0-7b03bc102c4c"
   },
   "outputs": [
    {
     "data": {
      "text/html": [
       "<div>\n",
       "<style scoped>\n",
       "    .dataframe tbody tr th:only-of-type {\n",
       "        vertical-align: middle;\n",
       "    }\n",
       "\n",
       "    .dataframe tbody tr th {\n",
       "        vertical-align: top;\n",
       "    }\n",
       "\n",
       "    .dataframe thead th {\n",
       "        text-align: right;\n",
       "    }\n",
       "</style>\n",
       "<table border=\"1\" class=\"dataframe\">\n",
       "  <thead>\n",
       "    <tr style=\"text-align: right;\">\n",
       "      <th></th>\n",
       "      <th>imageID</th>\n",
       "      <th>label</th>\n",
       "    </tr>\n",
       "  </thead>\n",
       "  <tbody>\n",
       "    <tr>\n",
       "      <th>0</th>\n",
       "      <td>31806</td>\n",
       "      <td>2</td>\n",
       "    </tr>\n",
       "    <tr>\n",
       "      <th>1</th>\n",
       "      <td>35802</td>\n",
       "      <td>6</td>\n",
       "    </tr>\n",
       "    <tr>\n",
       "      <th>2</th>\n",
       "      <td>8948</td>\n",
       "      <td>4</td>\n",
       "    </tr>\n",
       "    <tr>\n",
       "      <th>3</th>\n",
       "      <td>38878</td>\n",
       "      <td>1</td>\n",
       "    </tr>\n",
       "    <tr>\n",
       "      <th>4</th>\n",
       "      <td>16133</td>\n",
       "      <td>2</td>\n",
       "    </tr>\n",
       "    <tr>\n",
       "      <th>...</th>\n",
       "      <td>...</td>\n",
       "      <td>...</td>\n",
       "    </tr>\n",
       "    <tr>\n",
       "      <th>1675</th>\n",
       "      <td>12275</td>\n",
       "      <td>4</td>\n",
       "    </tr>\n",
       "    <tr>\n",
       "      <th>1676</th>\n",
       "      <td>33774</td>\n",
       "      <td>1</td>\n",
       "    </tr>\n",
       "    <tr>\n",
       "      <th>1677</th>\n",
       "      <td>35591</td>\n",
       "      <td>3</td>\n",
       "    </tr>\n",
       "    <tr>\n",
       "      <th>1678</th>\n",
       "      <td>9455</td>\n",
       "      <td>6</td>\n",
       "    </tr>\n",
       "    <tr>\n",
       "      <th>1679</th>\n",
       "      <td>20057</td>\n",
       "      <td>5</td>\n",
       "    </tr>\n",
       "  </tbody>\n",
       "</table>\n",
       "<p>1680 rows × 2 columns</p>\n",
       "</div>"
      ],
      "text/plain": [
       "      imageID  label\n",
       "0       31806      2\n",
       "1       35802      6\n",
       "2        8948      4\n",
       "3       38878      1\n",
       "4       16133      2\n",
       "...       ...    ...\n",
       "1675    12275      4\n",
       "1676    33774      1\n",
       "1677    35591      3\n",
       "1678     9455      6\n",
       "1679    20057      5\n",
       "\n",
       "[1680 rows x 2 columns]"
      ]
     },
     "execution_count": 271,
     "metadata": {
      "tags": []
     },
     "output_type": "execute_result"
    }
   ],
   "source": [
    "X_testfinal = imageDataTest.iloc[:, 1:-1].to_numpy()\n",
    "\n",
    "y_predtest = model4.predict(X_testfinal)\n",
    "\n",
    "y_predtest = np.argmax(y_predtest, axis=1)\n",
    "\n",
    "imageID = imageDataTest.iloc[:, -1].values\n",
    "\n",
    "ar = np.concatenate((imageID.reshape(len(imageID),1), y_predtest.reshape(len(y_predtest),1)),1)\n",
    "\n",
    "FinalDf = pd.DataFrame(data=ar, columns = ['imageID','label'])\n",
    "FinalDf.rename(columns = {\"0\":\"imageID\",\"1\":\"label\"})\n"
   ]
  },
  {
   "cell_type": "code",
   "execution_count": 272,
   "metadata": {
    "colab": {},
    "colab_type": "code",
    "id": "Whi-aUdrnCxy"
   },
   "outputs": [],
   "source": [
    "FinalDf.to_csv('mehta.assign-6-predictions.csv')"
   ]
  },
  {
   "cell_type": "markdown",
   "metadata": {
    "colab_type": "text",
    "id": "IlsxQvj1sJ4J"
   },
   "source": [
    "### Conclusion and Assignment Discussion"
   ]
  },
  {
   "cell_type": "markdown",
   "metadata": {
    "colab_type": "text",
    "id": "B-D95Z-R-_iL"
   },
   "source": [
    "This assignment was similar yet different than all the assignment before. It included training, fitting and evaluating the model performance just like before. However the concept of neural network is totally different as it is closest to how a human brain classifies things they see and interpret. Neural networks are a set of algorithms, modeled loosely after the human brain, that are designed to recognize patterns. They interpret sensory data and label them. They recognize patterns and upon adding more layers and nodes it avoids overfitting of the data which is contrary to the previous conception I had \"training a model over and over again on the same data set results into overfitting\". They recognize patterns in numerical values, contained in vectors, translated from various real-world non-numeric data. For example: images, sound, text, time series, etc. Neural networks help us cluster and classify. I believe this could be the stepping stone for entering into artificial intelligence and natural language processing. "
   ]
  }
 ],
 "metadata": {
  "colab": {
   "collapsed_sections": [],
   "name": "Mehta_Assignment_6.ipynb",
   "provenance": []
  },
  "kernelspec": {
   "display_name": "Python 3",
   "language": "python",
   "name": "python3"
  },
  "language_info": {
   "codemirror_mode": {
    "name": "ipython",
    "version": 3
   },
   "file_extension": ".py",
   "mimetype": "text/x-python",
   "name": "python",
   "nbconvert_exporter": "python",
   "pygments_lexer": "ipython3",
   "version": "3.7.3"
  }
 },
 "nbformat": 4,
 "nbformat_minor": 1
}
