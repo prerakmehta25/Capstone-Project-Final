{
 "cells": [
  {
   "cell_type": "markdown",
   "metadata": {},
   "source": [
    "# MSDS 422-57 Assignment 5- Prerak, Mehta"
   ]
  },
  {
   "cell_type": "markdown",
   "metadata": {},
   "source": [
    "## Introduction / Summary\n",
    "\n",
    "The goal of this assignment is to build a predictive model that will recognize hand written digits from 0 through 9. The pixel data of more than 40 thousand images of different hand written numbers from 0 to 9 is provided. We will use this pixel data to train a random forest predictive model. Principal component analysis (PCA) will also be looked upon to see if it has any postive effect on the random forest model. "
   ]
  },
  {
   "cell_type": "code",
   "execution_count": 193,
   "metadata": {},
   "outputs": [],
   "source": [
    "import numpy as np\n",
    "import pandas as pd\n",
    "import seaborn as sns \n",
    "import matplotlib.pyplot as plt\n",
    "import pickle   \n",
    "import sys\n",
    "import os\n",
    "from sklearn import preprocessing \n",
    "from sklearn.model_selection import train_test_split\n",
    "from sklearn.linear_model import LinearRegression\n",
    "from sklearn.metrics import mean_squared_error"
   ]
  },
  {
   "cell_type": "code",
   "execution_count": 194,
   "metadata": {},
   "outputs": [],
   "source": [
    "with open('assign-5-train.pickle','rb') as inFile:\n",
    "    digitsData=pickle.load(inFile)"
   ]
  },
  {
   "cell_type": "code",
   "execution_count": 195,
   "metadata": {},
   "outputs": [
    {
     "name": "stdout",
     "output_type": "stream",
     "text": [
      "True\n",
      "(41179, 786)\n",
      "Index(['label', 'pixel0', 'pixel1', 'pixel2', 'pixel3', 'pixel4', 'pixel5',\n",
      "       'pixel6', 'pixel7', 'pixel8',\n",
      "       ...\n",
      "       'pixel775', 'pixel776', 'pixel777', 'pixel778', 'pixel779', 'pixel780',\n",
      "       'pixel781', 'pixel782', 'pixel783', 'imageNum'],\n",
      "      dtype='object', length=786)\n"
     ]
    }
   ],
   "source": [
    "#Should be true if the Data is a pd DataFrame.\n",
    "print(isinstance(digitsData,pd.DataFrame))   \n",
    "#information on the shape of the dataset\n",
    "print(digitsData.shape)\n",
    "#Columns in the dataset that provide feature information that will be useful in modeling\n",
    "print(digitsData.columns)\n"
   ]
  },
  {
   "cell_type": "code",
   "execution_count": 184,
   "metadata": {},
   "outputs": [
    {
     "name": "stdout",
     "output_type": "stream",
     "text": [
      "   label  pixel0  pixel1  pixel2  pixel3  pixel4  pixel5  pixel6  pixel7  \\\n",
      "0      6       0       0       0       0       0       0       0       0   \n",
      "1      6       0       0       0       0       0       0       0       0   \n",
      "2      5       0       0       0       0       0       0       0       0   \n",
      "3      9       0       0       0       0       0       0       0       0   \n",
      "4      9       0       0       0       0       0       0       0       0   \n",
      "\n",
      "   pixel8  ...  pixel775  pixel776  pixel777  pixel778  pixel779  pixel780  \\\n",
      "0       0  ...         0         0         0         0         0         0   \n",
      "1       0  ...         0         0         0         0         0         0   \n",
      "2       0  ...         0         0         0         0         0         0   \n",
      "3       0  ...         0         0         0         0         0         0   \n",
      "4       0  ...         0         0         0         0         0         0   \n",
      "\n",
      "   pixel781  pixel782  pixel783  imageNum  \n",
      "0         0         0         0         0  \n",
      "1         0         0         0         1  \n",
      "2         0         0         0         2  \n",
      "3         0         0         0         3  \n",
      "4         0         0         0         4  \n",
      "\n",
      "[5 rows x 786 columns]\n"
     ]
    }
   ],
   "source": [
    "print(digitsData.head())"
   ]
  },
  {
   "cell_type": "code",
   "execution_count": 197,
   "metadata": {},
   "outputs": [],
   "source": [
    "X = digitsData.iloc[:, 1:-1].values\n",
    "y = digitsData.iloc[:, 0].values\n",
    "\n",
    "from sklearn.model_selection import train_test_split\n",
    "X_train, X_test, y_train, y_test = train_test_split(X, y, test_size = 0.20, random_state = 0)"
   ]
  },
  {
   "cell_type": "markdown",
   "metadata": {},
   "source": [
    "#### Notes \n",
    "- There are two types of models we will build in the assignment. 1) RF Classifier without pca and 2) RF classifier using PCA.\n",
    "- The RF classifier will model will be trained with a limit on n_estimators and and max_features since the data is too large. GridSearchCV will be used to find out the correct value for hyperparameter max_depth since that would directly affect our RF classifier model.\n",
    "- We will evaluate our RF regression model using K fold cross validation method and retrieve the accuracy, R^2, MSE, and response variance on both training and test sets in order to see how well our model performs.\n",
    "- For the second model, we will use the pca class from sklearn library and first find out the number of components that account for 80% of the variation in the pixel features and by doing so we will reduce the training pixel data using PCA.\n",
    "- Now using the reduced pizel training data we will validate another RF classifier but this time after applying PCA.\n",
    "- We will use k fold cross validation method and previously mentioned performance metrics to validate and check the performance of this model.\n",
    "- We will time the time it took to train and validate both of our models. Using the better performance model we will predict the values from the test pickle file.\n",
    "- We will take care of data leakage throughout the training and PCA application parts by making sure we do not fit our models on the test data and only transform them as that will give our model false accuracy. "
   ]
  },
  {
   "cell_type": "markdown",
   "metadata": {},
   "source": [
    "## Random Forest Classifier"
   ]
  },
  {
   "cell_type": "code",
   "execution_count": 221,
   "metadata": {},
   "outputs": [],
   "source": [
    "from sklearn.model_selection import train_test_split\n",
    "X_train, X_test, y_train, y_test = train_test_split(X, y, test_size = 0.20, random_state = 0)"
   ]
  },
  {
   "cell_type": "code",
   "execution_count": 222,
   "metadata": {},
   "outputs": [],
   "source": [
    "from sklearn.preprocessing import StandardScaler, MinMaxScaler\n",
    "scaler=preprocessing.MinMaxScaler()\n",
    "\n",
    "X_train = scaler.fit_transform(X_train)\n",
    "X_test = scaler.transform(X_test)"
   ]
  },
  {
   "cell_type": "code",
   "execution_count": 224,
   "metadata": {},
   "outputs": [
    {
     "name": "stdout",
     "output_type": "stream",
     "text": [
      "Best Accuracy of RF classifier:  0.9364053149980516\n",
      "Best max_depth parameter for RF classifier model:  {'max_depth': 18}\n"
     ]
    }
   ],
   "source": [
    "from sklearn.ensemble import RandomForestClassifier\n",
    "classifier = RandomForestClassifier(n_estimators = 10, criterion = 'entropy' ,random_state = 0, \n",
    "                                    max_features = 'sqrt', bootstrap = True)\n",
    "\n",
    "from sklearn.model_selection import GridSearchCV\n",
    "parametersmf = [{'max_depth':[2,4,6,8,10,12,14,16,18,20,22,24,26,28,30,32]}]\n",
    "searchmf = GridSearchCV(estimator = classifier, param_grid = parametersmf, cv = 5)\n",
    "searchmf.fit(X_train, y_train)\n",
    "\n",
    "best_accuracy = searchmf.best_score_\n",
    "best_parameters = searchmf.best_params_\n",
    "print('Best Accuracy of RF classifier: ', best_accuracy)\n",
    "print('Best max_depth parameter for RF classifier model: ', best_parameters)"
   ]
  },
  {
   "cell_type": "markdown",
   "metadata": {},
   "source": [
    "##### We notice the best accuracy of our RF classifier model is achieved at max_depth = 18. We will use that hyperparameter value to train and validate our RF classifier model."
   ]
  },
  {
   "cell_type": "code",
   "execution_count": 229,
   "metadata": {},
   "outputs": [],
   "source": [
    "from sklearn.model_selection import StratifiedKFold, StratifiedShuffleSplit\n",
    "from sklearn.base import clone\n",
    "skf = StratifiedKFold(n_splits=40, random_state=99,shuffle=True) \n",
    "scaler=preprocessing.MinMaxScaler()\n",
    "classifier = RandomForestClassifier(n_estimators = 10, criterion = 'entropy',\n",
    "                                    max_depth = 18 ,random_state = 0, max_features = 'sqrt', bootstrap = True)"
   ]
  },
  {
   "cell_type": "code",
   "execution_count": 230,
   "metadata": {},
   "outputs": [
    {
     "name": "stdout",
     "output_type": "stream",
     "text": [
      " 145.18543982505798 seconds taken to train and validate RF classifier model\n"
     ]
    }
   ],
   "source": [
    "import time\n",
    "start_time = time.time()\n",
    "\n",
    "from sklearn.metrics import mean_squared_error,r2_score,confusion_matrix, accuracy_score\n",
    "\n",
    "hold_rf = [] \n",
    "\n",
    "for train_ndx, test_ndx in skf.split(X, y):\n",
    "    resDict={}\n",
    "    clone_rf = clone(classifier)\n",
    "    X_trainS=scaler.fit_transform(X[train_ndx])\n",
    "    y_train = y[train_ndx]\n",
    "    X_testS=scaler.transform(X[test_ndx])\n",
    "    y_test = y[test_ndx]\n",
    "\n",
    "    foldfitrf=clone_rf.fit(X_trainS, y_train)\n",
    "\n",
    "    y_pred_test_rf=foldfitrf.predict(X_testS)\n",
    "    y_pred_train_rf=foldfitrf.predict(X_trainS)\n",
    "    \n",
    "    trainAcc_rf=accuracy_score(y_train,y_pred_train_rf)\n",
    "    testAcc_rf=accuracy_score(y_test,y_pred_test_rf)\n",
    "    trainR2=r2_score(y_train,y_pred_train_rf)\n",
    "    trainMSE=mean_squared_error(y_train,y_pred_train_rf)\n",
    "    testR2=r2_score(y_test,y_pred_test_rf)\n",
    "    testMSE=mean_squared_error(y_test,y_pred_test_rf)\n",
    "    df1 = pd.DataFrame(y_pred_test_rf,columns = ['predict'])\n",
    "    df2 = pd.DataFrame(y_test, columns =['test'])\n",
    "    RV_test = round(np.power(df2['test'].corr(df1['predict']),2),3)\n",
    "    df3 = pd.DataFrame(y_pred_train_rf,columns = ['predict'])\n",
    "    df4 = pd.DataFrame(y_train, columns =['train'])\n",
    "    RV_train = round(np.power(df4['train'].corr(df3['predict']),2),3)\n",
    "\n",
    "    resDict.update({'train_accuracy':trainAcc_rf,\n",
    "                    'test_accuracy':testAcc_rf,\n",
    "                    'trainR2':trainR2,\n",
    "                    'testR2':testR2,\n",
    "                    'trainMSE':trainMSE,\n",
    "                    'testMSE':testMSE,\n",
    "                    'Response_Variance_Train':RV_train,\n",
    "                    'Response_Variance_Test':RV_test                    \n",
    "                   })\n",
    "    hold_rf.append(resDict)    \n",
    "\n",
    "print(\" %s seconds taken to train and validate RF classifier model\" % (time.time() - start_time))"
   ]
  },
  {
   "cell_type": "code",
   "execution_count": 231,
   "metadata": {},
   "outputs": [
    {
     "name": "stdout",
     "output_type": "stream",
     "text": [
      "Result description of K Folds method using Random Forest Classifier:\n",
      "        train_accuracy  test_accuracy   trainMSE    testMSE    trainR2  \\\n",
      "count       40.000000      40.000000  40.000000  40.000000  40.000000   \n",
      "mean         0.998907       0.941669   0.021548   1.019840   0.997417   \n",
      "std          0.000187       0.007340   0.004436   0.184397   0.000532   \n",
      "min          0.998456       0.920311   0.014023   0.664723   0.996252   \n",
      "25%          0.998780       0.936878   0.018007   0.909685   0.997041   \n",
      "50%          0.998929       0.942663   0.021096   0.998543   0.997471   \n",
      "75%          0.999035       0.946550   0.024683   1.132561   0.997841   \n",
      "max          0.999253       0.957240   0.031258   1.458698   0.998319   \n",
      "\n",
      "          testR2  Response_Variance_Train  Response_Variance_Test  \n",
      "count  40.000000                40.000000               40.000000  \n",
      "mean    0.877726                 0.997400                0.881950  \n",
      "std     0.022131                 0.000632                0.020599  \n",
      "min     0.825157                 0.996000                0.834000  \n",
      "25%     0.864151                 0.997000                0.868250  \n",
      "50%     0.880349                 0.997000                0.884500  \n",
      "75%     0.890973                 0.998000                0.894250  \n",
      "max     0.920388                 0.998000                0.922000  \n"
     ]
    }
   ],
   "source": [
    "cvresDF=pd.DataFrame(hold_rf)[['train_accuracy','test_accuracy','trainMSE','testMSE','trainR2','testR2',\n",
    "                               'Response_Variance_Train','Response_Variance_Test']]\n",
    "\n",
    "print('Result description of K Folds method using Random Forest Classifier:\\n' , cvresDF.describe())\n"
   ]
  },
  {
   "cell_type": "code",
   "execution_count": 235,
   "metadata": {},
   "outputs": [
    {
     "name": "stdout",
     "output_type": "stream",
     "text": [
      "[[791   0   3   1   2   5   8   0   2   0]\n",
      " [  0 887   4   2   1   0   1   2   3   0]\n",
      " [  2   5 783  10   2   4   2  10   6   1]\n",
      " [  6   2  16 784   3  19   0   4  19   6]\n",
      " [  3   1   3   0 725   2   2   3   1  23]\n",
      " [  8   3   0  31   3 704   8   1   9   7]\n",
      " [  9   4   1   3   4  13 806   0   3   0]\n",
      " [  1   6  14   2  11   2   0 790   3  14]\n",
      " [  4   7  16  16   9  13   6   3 731   9]\n",
      " [  2   1   3  16  25   9   4  10   7 726]]\n",
      "Accuracy Score 0.9381981544439048\n"
     ]
    }
   ],
   "source": [
    "# Visualize a confusion matrix for the RF Classifier model.\n",
    "from sklearn.metrics import confusion_matrix\n",
    "\n",
    "X_train, X_test, y_train, y_test = train_test_split(X, y, test_size = 0.20, random_state = 0)\n",
    "\n",
    "classifier.fit(X_train, y_train)\n",
    "y_pred = classifier.predict(X_test)\n",
    "cm = confusion_matrix(y_test, y_pred)\n",
    "print(cm)\n",
    "print('Accuracy Score', accuracy_score(y_test, y_pred))"
   ]
  },
  {
   "cell_type": "markdown",
   "metadata": {},
   "source": [
    "The accuracy we received is close to the accuracy mean of the test set from the cross validation evaluation so that's good.\n",
    "\n",
    "## Principal Component Analysis (PCA)\n",
    "\n",
    "Firstly we shalle find the number of components that account for 80% of the variation in the pixel features."
   ]
  },
  {
   "cell_type": "code",
   "execution_count": 237,
   "metadata": {},
   "outputs": [
    {
     "name": "stdout",
     "output_type": "stream",
     "text": [
      " 4.348626136779785 seconds taken to identify the number of components vs cum explained variance\n"
     ]
    },
    {
     "data": {
      "image/png": "[encoded data removed]",
      "text/plain": [
       "<Figure size 576x396 with 1 Axes>"
      ]
     },
     "metadata": {},
     "output_type": "display_data"
    }
   ],
   "source": [
    "import time\n",
    "start_time = time.time()\n",
    "\n",
    "from sklearn.preprocessing import StandardScaler, MinMaxScaler\n",
    "scaler=preprocessing.MinMaxScaler()\n",
    "#X_train = sc.fit_transform(X_train)\n",
    "#X_test = sc.transform(X_test)\n",
    "\n",
    "from sklearn.model_selection import train_test_split\n",
    "X_train, X_test, y_train, y_test = train_test_split(X, y, test_size = 0.2, random_state = 0)\n",
    "\n",
    "X_train = scaler.fit_transform(X_train)\n",
    "X_test = scaler.transform(X_test)\n",
    "\n",
    "pca = PCA().fit(X_train)\n",
    "plt.plot(np.cumsum(pca.explained_variance_ratio_))\n",
    "plt.xlabel('number of components')\n",
    "plt.ylabel('cumulative explained variance');\n",
    "\n",
    "print(\" %s seconds taken to identify the number of components vs cum explained variance\" % (time.time() - start_time))"
   ]
  },
  {
   "cell_type": "markdown",
   "metadata": {},
   "source": [
    "Hence 42 should be the count of the principal components going into the next step which is evaluation using k fold cross validation of RF classifier after applying PCA."
   ]
  },
  {
   "cell_type": "code",
   "execution_count": 243,
   "metadata": {},
   "outputs": [
    {
     "name": "stdout",
     "output_type": "stream",
     "text": [
      " 291.36042380332947 seconds taken to identify the train and validate RF classifier model after applying PCA\n"
     ]
    }
   ],
   "source": [
    "import time\n",
    "start_time = time.time()\n",
    "\n",
    "from sklearn.metrics import mean_squared_error,r2_score,confusion_matrix, accuracy_score\n",
    "\n",
    "hold_rf = [] \n",
    "\n",
    "pca = PCA(n_components = 42)\n",
    "classifierpca = RandomForestClassifier(n_estimators = 10, criterion = 'entropy', max_depth = 18 ,\n",
    "                                       random_state = 0, max_features = 'sqrt', bootstrap = True)\n",
    "\n",
    "skf = StratifiedKFold(n_splits=40, random_state=99,shuffle=True) \n",
    "scaler=preprocessing.MinMaxScaler()\n",
    "\n",
    "for train_ndx, test_ndx in skf.split(X, y):\n",
    "    resDict={}\n",
    "    clone_rf = clone(classifierpca)\n",
    "    X_trainS=scaler.fit_transform(X[train_ndx])\n",
    "    y_train = y[train_ndx]\n",
    "    X_testS=scaler.transform(X[test_ndx])\n",
    "    y_test = y[test_ndx]\n",
    "    \n",
    "    X_train_pca = pca.fit_transform(X_trainS)\n",
    "    X_test_pca = pca.transform(X_testS)\n",
    "    \n",
    "    foldfitrf=clone_rf.fit(X_train_pca, y_train)\n",
    "\n",
    "    y_pred_test_rf=foldfitrf.predict(X_test_pca)\n",
    "    y_pred_train_rf=foldfitrf.predict(X_train_pca)\n",
    "    \n",
    "    trainAcc_rf=accuracy_score(y_train,y_pred_train_rf)\n",
    "    testAcc_rf=accuracy_score(y_test,y_pred_test_rf)\n",
    "    trainR2=r2_score(y_train,y_pred_train_rf)\n",
    "    trainMSE=mean_squared_error(y_train,y_pred_train_rf)\n",
    "    testR2=r2_score(y_test,y_pred_test_rf)\n",
    "    testMSE=mean_squared_error(y_test,y_pred_test_rf)\n",
    "    df1 = pd.DataFrame(y_pred_test_rf,columns = ['predict'])\n",
    "    df2 = pd.DataFrame(y_test, columns =['test'])\n",
    "    RV_test = round(np.power(df2['test'].corr(df1['predict']),2),3)\n",
    "    df3 = pd.DataFrame(y_pred_train_rf,columns = ['predict'])\n",
    "    df4 = pd.DataFrame(y_train, columns =['train'])\n",
    "    RV_train = round(np.power(df4['train'].corr(df3['predict']),2),3)\n",
    "\n",
    "    resDict.update({'train_accuracy':trainAcc_rf,\n",
    "                    'test_accuracy':testAcc_rf,\n",
    "                    'trainR2':trainR2,\n",
    "                    'testR2':testR2,\n",
    "                    'trainMSE':trainMSE,\n",
    "                    'testMSE':testMSE,\n",
    "                    'Response_Variance_Train':RV_train,\n",
    "                    'Response_Variance_Test':RV_test                    \n",
    "                   })\n",
    "    hold_rf.append(resDict)    \n",
    "print(\" %s seconds taken to identify the train and validate RF classifier model after applying PCA\" \n",
    "      % (time.time() - start_time))    \n",
    "#print('K Folds method using Random Forest Classifier')\n",
    "#pd.DataFrame(hold_rf)[['train_accuracy','test_accuracy']].describe()\n"
   ]
  },
  {
   "cell_type": "code",
   "execution_count": 244,
   "metadata": {},
   "outputs": [
    {
     "name": "stdout",
     "output_type": "stream",
     "text": [
      "Result description of K Folds method using Random Forest Classifier and PCA:\n",
      "        train_accuracy  test_accuracy   trainMSE    testMSE    trainR2  \\\n",
      "count       40.000000      40.000000  40.000000  40.000000  40.000000   \n",
      "mean         0.998694       0.917338   0.024118   1.415451   0.997108   \n",
      "std          0.000155       0.009059   0.004273   0.220907   0.000512   \n",
      "min          0.998356       0.898058   0.015891   1.052478   0.995990   \n",
      "25%          0.998580       0.912536   0.020891   1.254430   0.996744   \n",
      "50%          0.998717       0.917436   0.024259   1.382228   0.997092   \n",
      "75%          0.998804       0.924459   0.027155   1.604713   0.997495   \n",
      "max          0.999004       0.933916   0.033450   1.857282   0.998095   \n",
      "\n",
      "          testR2  Response_Variance_Train  Response_Variance_Test  \n",
      "count  40.000000                40.000000               40.000000  \n",
      "mean    0.830292                 0.997125                0.837750  \n",
      "std     0.026535                 0.000607                0.024141  \n",
      "min     0.777343                 0.996000                0.789000  \n",
      "25%     0.807665                 0.997000                0.816500  \n",
      "50%     0.834314                 0.997000                0.840500  \n",
      "75%     0.849651                 0.997250                0.855250  \n",
      "max     0.873947                 0.998000                0.878000  \n"
     ]
    }
   ],
   "source": [
    "cvresDF=pd.DataFrame(hold_rf)[['train_accuracy','test_accuracy','trainMSE','testMSE',\n",
    "                               'trainR2','testR2','Response_Variance_Train','Response_Variance_Test']]\n",
    "\n",
    "print('Result description of K Folds method using Random Forest Classifier and PCA:\\n' , cvresDF.describe())"
   ]
  },
  {
   "cell_type": "code",
   "execution_count": 246,
   "metadata": {},
   "outputs": [
    {
     "name": "stderr",
     "output_type": "stream",
     "text": [
      "//anaconda3/lib/python3.7/site-packages/sklearn/base.py:213: FutureWarning: From version 0.24, get_params will raise an AttributeError if a parameter cannot be retrieved as an instance attribute. Previously it would return None.\n",
      "  FutureWarning)\n"
     ]
    },
    {
     "data": {
      "image/png": "[encoded data removed]",
      "text/plain": [
       "<Figure size 576x396 with 1 Axes>"
      ]
     },
     "metadata": {},
     "output_type": "display_data"
    }
   ],
   "source": [
    "#CREDIT AND REFERENCE KAREN O'BRIEN who posted this visualization in the assignment huddle.  \n",
    "\n",
    "from yellowbrick.classifier import ClassPredictionError\n",
    "\n",
    "X_train, X_test, y_train, y_test = train_test_split(X, y, test_size = 0.20, random_state = 0)\n",
    "\n",
    "classifier = RandomForestClassifier(n_estimators = 10, criterion = 'entropy', max_depth = 18 ,\n",
    "                                    random_state = 0, max_features = 'sqrt', bootstrap = True)\n",
    "\n",
    "classes =[\"Zero\", \"One\", \"Two\", \"Three\", \"Four\", \"Five\", \"Six\", \"Seven\", \"Eight\", \"Nine\"]\n",
    "colors = [\"blue\", \"green\", \"black\", \"red\", \"yellow\", \"orange\", \"steelblue\", \"darkgray\", \"pink\", \"silver\"]\n",
    "\n",
    "visualizer = ClassPredictionError(classifier, classes=classes)\n",
    "visualizer.fit(X_train, y_train)\n",
    "\n",
    "visualizer.score(X_test, y_test)\n",
    "\n",
    "visualizer.show();"
   ]
  },
  {
   "cell_type": "markdown",
   "metadata": {},
   "source": [
    "##### Hence we see the Random Forest Classifier with application of PCA analysis, in this case, provides more accuracy and on top of that a better overall accuracy and less error. Hence We will use this model to predict labels for the test data. We will train and fit the model once again with the suitable hyperparameters once again."
   ]
  },
  {
   "cell_type": "code",
   "execution_count": 240,
   "metadata": {},
   "outputs": [
    {
     "data": {
      "text/plain": [
       "RandomForestClassifier(criterion='entropy', max_depth=18, max_features='sqrt',\n",
       "                       n_estimators=10, random_state=0)"
      ]
     },
     "execution_count": 240,
     "metadata": {},
     "output_type": "execute_result"
    }
   ],
   "source": [
    "from sklearn.model_selection import train_test_split\n",
    "X_train, X_test, y_train, y_test = train_test_split(X, y, test_size = 0.20, random_state = 0)\n",
    "\n",
    "scaler=preprocessing.MinMaxScaler()\n",
    "\n",
    "X_train = scaler.fit_transform(X_train)\n",
    "\n",
    "classifier.fit(X_train, y_train)\n"
   ]
  },
  {
   "cell_type": "code",
   "execution_count": 241,
   "metadata": {},
   "outputs": [
    {
     "data": {
      "text/html": [
       "<div>\n",
       "<style scoped>\n",
       "    .dataframe tbody tr th:only-of-type {\n",
       "        vertical-align: middle;\n",
       "    }\n",
       "\n",
       "    .dataframe tbody tr th {\n",
       "        vertical-align: top;\n",
       "    }\n",
       "\n",
       "    .dataframe thead th {\n",
       "        text-align: right;\n",
       "    }\n",
       "</style>\n",
       "<table border=\"1\" class=\"dataframe\">\n",
       "  <thead>\n",
       "    <tr style=\"text-align: right;\">\n",
       "      <th></th>\n",
       "      <th>imageNum</th>\n",
       "      <th>digit</th>\n",
       "    </tr>\n",
       "  </thead>\n",
       "  <tbody>\n",
       "    <tr>\n",
       "      <th>0</th>\n",
       "      <td>77</td>\n",
       "      <td>6</td>\n",
       "    </tr>\n",
       "    <tr>\n",
       "      <th>1</th>\n",
       "      <td>109</td>\n",
       "      <td>6</td>\n",
       "    </tr>\n",
       "    <tr>\n",
       "      <th>2</th>\n",
       "      <td>112</td>\n",
       "      <td>0</td>\n",
       "    </tr>\n",
       "    <tr>\n",
       "      <th>3</th>\n",
       "      <td>274</td>\n",
       "      <td>7</td>\n",
       "    </tr>\n",
       "    <tr>\n",
       "      <th>4</th>\n",
       "      <td>326</td>\n",
       "      <td>5</td>\n",
       "    </tr>\n",
       "    <tr>\n",
       "      <th>...</th>\n",
       "      <td>...</td>\n",
       "      <td>...</td>\n",
       "    </tr>\n",
       "    <tr>\n",
       "      <th>816</th>\n",
       "      <td>41842</td>\n",
       "      <td>3</td>\n",
       "    </tr>\n",
       "    <tr>\n",
       "      <th>817</th>\n",
       "      <td>41901</td>\n",
       "      <td>7</td>\n",
       "    </tr>\n",
       "    <tr>\n",
       "      <th>818</th>\n",
       "      <td>41934</td>\n",
       "      <td>7</td>\n",
       "    </tr>\n",
       "    <tr>\n",
       "      <th>819</th>\n",
       "      <td>41995</td>\n",
       "      <td>1</td>\n",
       "    </tr>\n",
       "    <tr>\n",
       "      <th>820</th>\n",
       "      <td>41997</td>\n",
       "      <td>8</td>\n",
       "    </tr>\n",
       "  </tbody>\n",
       "</table>\n",
       "<p>821 rows × 2 columns</p>\n",
       "</div>"
      ],
      "text/plain": [
       "     imageNum  digit\n",
       "0          77      6\n",
       "1         109      6\n",
       "2         112      0\n",
       "3         274      7\n",
       "4         326      5\n",
       "..        ...    ...\n",
       "816     41842      3\n",
       "817     41901      7\n",
       "818     41934      7\n",
       "819     41995      1\n",
       "820     41997      8\n",
       "\n",
       "[821 rows x 2 columns]"
      ]
     },
     "execution_count": 241,
     "metadata": {},
     "output_type": "execute_result"
    }
   ],
   "source": [
    "with open('assign-5-test.pickle','rb') as inFile:\n",
    "    digitsDataTest=pickle.load(inFile)\n",
    "    \n",
    "X_testfinal = digitsDataTest.iloc[:, 1:-1].to_numpy()\n",
    "\n",
    "y_pred_digit = classifier.predict(X_testfinal)\n",
    "\n",
    "imageNum = digitsDataTest.iloc[:, -1].values\n",
    "\n",
    "ar = np.concatenate((imageNum.reshape(len(imageNum),1), y_pred_digit.reshape(len(y_pred_digit),1)),1)\n",
    "\n",
    "FinalDf = pd.DataFrame(data=ar, columns = ['imageNum','digit'])\n",
    "FinalDf.rename(columns = {\"0\":\"imageNum\",\"1\":\"digit\"})\n"
   ]
  },
  {
   "cell_type": "markdown",
   "metadata": {},
   "source": [
    "## Export to CSV"
   ]
  },
  {
   "cell_type": "code",
   "execution_count": 242,
   "metadata": {},
   "outputs": [],
   "source": [
    "FinalDf.to_csv('assign-5-mehta-test.csv')"
   ]
  },
  {
   "cell_type": "markdown",
   "metadata": {},
   "source": [
    "### Assignment discussion and Conclusion"
   ]
  },
  {
   "cell_type": "markdown",
   "metadata": {},
   "source": [
    "This assignment took our understanding and application of machine learning models to another level and gives much more confidence going into nueral networks next week. Random Forest is proving to be an extremely powerful machine learning model to get more accurate results in most cases. No wonder WII games used the RF classifier machine learning model to recognize the hand gestures from the players and design an entire video game platform out of it. To my much surprise the utilization of PCA did not yield a better accuracy. This was even after we chose the principal components manually. I believe the regular RF classifier model would have yielded an even better accuracy if we had a powerful machine at our disposal that could use more n_estimators to train the model. "
   ]
  }
 ],
 "metadata": {
  "kernelspec": {
   "display_name": "Python 3",
   "language": "python",
   "name": "python3"
  },
  "language_info": {
   "codemirror_mode": {
    "name": "ipython",
    "version": 3
   },
   "file_extension": ".py",
   "mimetype": "text/x-python",
   "name": "python",
   "nbconvert_exporter": "python",
   "pygments_lexer": "ipython3",
   "version": "3.7.3"
  }
 },
 "nbformat": 4,
 "nbformat_minor": 2
}
